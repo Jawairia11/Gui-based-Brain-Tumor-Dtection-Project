{
 "cells": [
  {
   "cell_type": "code",
   "execution_count": 1,
   "id": "059424d1",
   "metadata": {},
   "outputs": [],
   "source": [
    "import tkinter as tk\n",
    "from tkinter import filedialog\n",
    "from tkinter import messagebox\n",
    "from PIL import Image, ImageTk\n",
    "import numpy as np\n",
    "import tensorflow as tf\n"
   ]
  },
  {
   "cell_type": "code",
   "execution_count": 2,
   "id": "f1be5b5f",
   "metadata": {},
   "outputs": [],
   "source": [
    "from tensorflow.keras.models import load_model\n",
    "model = load_model('model.h5')"
   ]
  },
  {
   "cell_type": "code",
   "execution_count": 3,
   "id": "badacb03",
   "metadata": {},
   "outputs": [
    {
     "data": {
      "text/plain": [
       "''"
      ]
     },
     "execution_count": 3,
     "metadata": {},
     "output_type": "execute_result"
    }
   ],
   "source": [
    "root = tk.Tk()\n",
    "root.title('MRI Dataset')"
   ]
  },
  {
   "cell_type": "code",
   "execution_count": 4,
   "id": "3b916d82",
   "metadata": {},
   "outputs": [
    {
     "name": "stderr",
     "output_type": "stream",
     "text": [
      "Exception in Tkinter callback\n",
      "Traceback (most recent call last):\n",
      "  File \"C:\\Users\\arfan\\anaconda3\\Lib\\tkinter\\__init__.py\", line 1948, in __call__\n",
      "    return self.func(*args)\n",
      "           ^^^^^^^^^^^^^^^^\n",
      "  File \"C:\\Users\\arfan\\AppData\\Local\\Temp\\ipykernel_10556\\4172920655.py\", line 6, in classify_image\n",
      "    image_array = image_array.reshape(1,180,180,3)\n",
      "                  ^^^^^^^^^^^^^^^^^^^^^^^^^^^^^^^^\n",
      "ValueError: cannot reshape array of size 32400 into shape (1,180,180,3)\n",
      "Exception in Tkinter callback\n",
      "Traceback (most recent call last):\n",
      "  File \"C:\\Users\\arfan\\anaconda3\\Lib\\tkinter\\__init__.py\", line 1948, in __call__\n",
      "    return self.func(*args)\n",
      "           ^^^^^^^^^^^^^^^^\n",
      "  File \"C:\\Users\\arfan\\AppData\\Local\\Temp\\ipykernel_10556\\4172920655.py\", line 6, in classify_image\n",
      "    image_array = image_array.reshape(1,180,180,3)\n",
      "                  ^^^^^^^^^^^^^^^^^^^^^^^^^^^^^^^^\n",
      "ValueError: cannot reshape array of size 32400 into shape (1,180,180,3)\n"
     ]
    }
   ],
   "source": [
    "def classify_image():\n",
    "    file_path = filedialog.askopenfilename(filetypes=[(\"Image files\",\"*.jpg *,jpeg\")])\n",
    "    if file_path:\n",
    "        image = Image.open(file_path).convert(\"L\").resize((180,180))\n",
    "        image_array = np.array(image) /255.0\n",
    "        image_array = image_array.reshape(1,180,180,3)\n",
    "        prediction = model.predict(np.array([image_array]))\n",
    "        predicted_digit = np.argmax(prediction)\n",
    "\n",
    "\n",
    "        image_label.config(image=ImageTk.PhotoImage(image))\n",
    "        result_label.config(text=f'Predicted Image:{predicted_digit}')\n",
    "\n",
    "open_button = tk.Button(root, text=\"Open Image\", command=classify_image)\n",
    "image_label = tk.Label(root)\n",
    "result_label = tk.Label(root, text=\"Predicted Image:  \")\n",
    "\n",
    "open_button.pack(pady=10)\n",
    "image_label.pack()\n",
    "result_label.pack()\n",
    "\n",
    "\n",
    "root.mainloop()"
   ]
  },
  {
   "cell_type": "code",
   "execution_count": 5,
   "id": "b8e73abe",
   "metadata": {},
   "outputs": [
    {
     "name": "stdout",
     "output_type": "stream",
     "text": [
      "1/1 [==============================] - 0s 331ms/step\n"
     ]
    }
   ],
   "source": [
    "#######################################################################   Working  #########################\n",
    "\n",
    "import tkinter as tk\n",
    "from tkinter import filedialog\n",
    "from PIL import Image, ImageTk\n",
    "import numpy as np\n",
    "import tensorflow as tf\n",
    "\n",
    "# Load the model using tf.keras instead of keras\n",
    "model = tf.keras.models.load_model(\"C://Users\\\\arfan\\\\Downloads\\\\model.h5\")\n",
    "\n",
    "root = tk.Tk()\n",
    "root.title('MRI Dataset')\n",
    "\n",
    "def classify_image():\n",
    "    file_path = filedialog.askopenfilename(filetypes=[(\"Image files\", \"*.jpg *.jpeg\")])\n",
    "    if file_path:\n",
    "        image = Image.open(file_path).convert(\"L\").resize((180, 180))  # Resize to 20x20 grayscale\n",
    "        image_array = np.array(image)\n",
    "        \n",
    "        # Replicate grayscale channel into three channels\n",
    "        image_array_rgb = np.stack([image_array] * 3, axis=-1)\n",
    "        image_array_rgb = image_array_rgb / 255.0\n",
    "        \n",
    "        image_array_rgb = image_array_rgb.reshape(1, 180, 180, 3)  # Reshape for model's input\n",
    "        \n",
    "        prediction = model.predict(image_array_rgb)\n",
    "        predicted_digit = np.argmax(prediction)\n",
    "        if predicted_digit==0:\n",
    "            predicted_digit='Gloma Tumor'\n",
    "        elif predicted_digit==1:\n",
    "            predicted_digit='Meningioma Tumor'\n",
    "        elif predicted_digit==2:\n",
    "            predicted_digit='No Tumor'\n",
    "        elif predicted_digit==3:\n",
    "            predicted_digit='Petituray Tumor'\n",
    "\n",
    "        photo = ImageTk.PhotoImage(image=Image.fromarray((image_array_rgb[0] * 255).astype(np.uint8)))\n",
    "        image_label.config(image=photo)\n",
    "        image_label.image = photo\n",
    "        result_label.config(text=f'Predicted Class: {predicted_digit}')\n",
    "\n",
    "open_button = tk.Button(root, text=\"Open Image\", command=classify_image)\n",
    "image_label = tk.Label(root,width=80,height=80)\n",
    "result_label = tk.Label(root, text=\"Predicted Class: \")\n",
    "\n",
    "open_button.pack(pady=10)\n",
    "image_label.pack()\n",
    "result_label.pack()\n",
    "\n",
    "root.mainloop()\n",
    "\n",
    "\n",
    "#######################################################################   Working  #########################\n"
   ]
  },
  {
   "cell_type": "code",
   "execution_count": null,
   "id": "f8e8eb30",
   "metadata": {},
   "outputs": [],
   "source": []
  }
 ],
 "metadata": {
  "kernelspec": {
   "display_name": "Python 3 (ipykernel)",
   "language": "python",
   "name": "python3"
  },
  "language_info": {
   "codemirror_mode": {
    "name": "ipython",
    "version": 3
   },
   "file_extension": ".py",
   "mimetype": "text/x-python",
   "name": "python",
   "nbconvert_exporter": "python",
   "pygments_lexer": "ipython3",
   "version": "3.11.3"
  }
 },
 "nbformat": 4,
 "nbformat_minor": 5
}
